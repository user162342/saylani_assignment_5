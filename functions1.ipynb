{
 "cells": [
  {
   "cell_type": "code",
   "execution_count": 1,
   "metadata": {},
   "outputs": [
    {
     "data": {
      "text/plain": [
       "5"
      ]
     },
     "execution_count": 1,
     "metadata": {},
     "output_type": "execute_result"
    }
   ],
   "source": [
    "#Q1\n",
    "def maximum_number_finder(a,b,c):\n",
    "    if a >= b and a >= c:  \n",
    "        return a  \n",
    "    elif b >= a and b >= c:  \n",
    "        return b \n",
    "    else:  \n",
    "        return c\n",
    "\n",
    "maximum_number_finder(5,4,3)\n"
   ]
  },
  {
   "cell_type": "code",
   "execution_count": 33,
   "metadata": {},
   "outputs": [
    {
     "name": "stdout",
     "output_type": "stream",
     "text": [
      "sum of list is  20\n"
     ]
    }
   ],
   "source": [
    "#Q2\n",
    "list = [8,2,3,0,7]\n",
    "def addition(list):\n",
    "    if not list:\n",
    "        print(\"addition is not possible there are no values\")\n",
    "    else:\n",
    "        total = sum(list)\n",
    "        print(\"sum of list is \",total)\n",
    "\n",
    "addition(list)"
   ]
  },
  {
   "cell_type": "code",
   "execution_count": 20,
   "metadata": {},
   "outputs": [
    {
     "name": "stdout",
     "output_type": "stream",
     "text": [
      "product is  48\n"
     ]
    }
   ],
   "source": [
    "#Q3\n",
    "multiplication_list = [2,4,6]\n",
    "def multiplication(my_list):\n",
    "    if not my_list:\n",
    "        print(\"multiplication not possible\")\n",
    "    else:\n",
    "        total = 1\n",
    "        for i in my_list:\n",
    "            total = total * i\n",
    "        print(\"product is \", total)\n",
    "            \n",
    "\n",
    "multiplication(multiplication_list)"
   ]
  },
  {
   "cell_type": "code",
   "execution_count": 6,
   "metadata": {},
   "outputs": [
    {
     "data": {
      "text/plain": [
       "'dcba4321'"
      ]
     },
     "execution_count": 6,
     "metadata": {},
     "output_type": "execute_result"
    }
   ],
   "source": [
    "#Q4\n",
    "def string_reverser(a:str):\n",
    "    reversed = \"\"\n",
    "    for i in a[::-1]:\n",
    "        reversed += i\n",
    "    return reversed\n",
    "string_reverser(\"1234abcd\")"
   ]
  },
  {
   "cell_type": "code",
   "execution_count": null,
   "metadata": {},
   "outputs": [],
   "source": [
    "#Q5\n",
    "import math\n",
    "\n",
    "def factorial_math(n):\n",
    "    if n < 0:\n",
    "        return \"Factorial is not defined for negative numbers.\"\n",
    "    else:\n",
    "      return math.factorial(n)\n",
    "\n",
    "print(factorial_math(5)) \n"
   ]
  },
  {
   "cell_type": "code",
   "execution_count": 8,
   "metadata": {},
   "outputs": [
    {
     "name": "stdout",
     "output_type": "stream",
     "text": [
      "True\n",
      "False\n"
     ]
    }
   ],
   "source": [
    "#Q6\n",
    "def is_in_range(num, start, end):\n",
    "  return start <= num <= end\n",
    "\n",
    "print(is_in_range(5, 1, 10))   \n",
    "print(is_in_range(0, 1, 10))   "
   ]
  },
  {
   "cell_type": "code",
   "execution_count": 15,
   "metadata": {},
   "outputs": [
    {
     "name": "stdout",
     "output_type": "stream",
     "text": [
      "Uppercase: 3\n",
      "Lowercase: 12\n"
     ]
    }
   ],
   "source": [
    "#Q7\n",
    "def counter(string):\n",
    "    upper_count = 0\n",
    "    lower_count = 0\n",
    "    for character in string:\n",
    "        if 'A' <= character <= 'Z':  \n",
    "            upper_count += 1\n",
    "        elif 'a' <= character <= 'z': \n",
    "            lower_count += 1\n",
    "    print(\"Uppercase:\", upper_count)\n",
    "    print(\"Lowercase:\", lower_count)\n",
    "\n",
    "\n",
    "sampleString = 'The quick Brow Fox'\n",
    "counter(sampleString) "
   ]
  },
  {
   "cell_type": "code",
   "execution_count": 17,
   "metadata": {},
   "outputs": [
    {
     "name": "stdout",
     "output_type": "stream",
     "text": [
      "[1, 2, 3, 4, 5]\n"
     ]
    }
   ],
   "source": [
    "#Q8\n",
    "def get_unique_elements(input_list):\n",
    "    return list(set(input_list))\n",
    "\n",
    "sample_list = [1, 2, 3, 3, 3, 3, 4, 5]\n",
    "unique_list = get_unique_elements(sample_list)\n",
    "print(unique_list)  "
   ]
  },
  {
   "cell_type": "code",
   "execution_count": 24,
   "metadata": {},
   "outputs": [
    {
     "name": "stdout",
     "output_type": "stream",
     "text": [
      "True\n",
      "False\n",
      "False\n"
     ]
    }
   ],
   "source": [
    "#Q8\n",
    "def is_prime(num):\n",
    "    if num <= 1:\n",
    "        return False\n",
    "    for i in range(2, num): \n",
    "        if num % i == 0:\n",
    "            return False\n",
    "    return True\n",
    "\n",
    "print(is_prime(2)) \n",
    "print(is_prime(0)) \n",
    "print(is_prime(-5)) "
   ]
  },
  {
   "cell_type": "code",
   "execution_count": 37,
   "metadata": {},
   "outputs": [
    {
     "name": "stdout",
     "output_type": "stream",
     "text": [
      "[2, 4, 6, 8]\n"
     ]
    }
   ],
   "source": [
    "#Q9\n",
    "sampleList = [1, 2, 3, 4, 5, 6, 7, 8, 9]\n",
    "def even_number_identifier(list):\n",
    "    even = []\n",
    "    for i in list:\n",
    "        if i%2==0:\n",
    "            even.append(i)\n",
    "    print(even)\n",
    "\n",
    "even_number_identifier(sampleList)"
   ]
  },
  {
   "cell_type": "code",
   "execution_count": null,
   "metadata": {},
   "outputs": [],
   "source": [
    "#Q10\n",
    "def print_even_numbers(numbers):\n",
    "    return [num for num in numbers if num % 2 == 0]\n",
    "\n",
    "sample_list = [1, 2, 3, 4, 5, 6, 7, 8, 9]\n",
    "result = print_even_numbers(sample_list)\n",
    "print(result)  "
   ]
  },
  {
   "cell_type": "code",
   "execution_count": null,
   "metadata": {},
   "outputs": [],
   "source": [
    "#Q11\n",
    "def is_perfect_number(number):\n",
    "    if number < 1:\n",
    "        return False\n",
    "    divisors = [i for i in range(1, number) if number % i == 0]\n",
    "    return sum(divisors) == number\n",
    "\n",
    "test_number = 28\n",
    "if is_perfect_number(test_number):\n",
    "    print(f\"{test_number} is a perfect number.\")\n",
    "else:\n",
    "    print(f\"{test_number} is not a perfect number.\")\n"
   ]
  },
  {
   "cell_type": "code",
   "execution_count": null,
   "metadata": {},
   "outputs": [],
   "source": [
    "#Q12\n",
    "def is_palindrome(string):\n",
    "    cleaned_string = ''.join(char.lower() for char in string if char.isalnum())\n",
    "    return cleaned_string == cleaned_string[::-1]\n",
    "\n",
    "test_string = \"Madam\"\n",
    "if is_palindrome(test_string):\n",
    "    print(f'\"{test_string}\" is a palindrome.')\n",
    "else:\n",
    "    print(f'\"{test_string}\" is not a palindrome.')\n"
   ]
  }
 ],
 "metadata": {
  "kernelspec": {
   "display_name": "base",
   "language": "python",
   "name": "python3"
  },
  "language_info": {
   "codemirror_mode": {
    "name": "ipython",
    "version": 3
   },
   "file_extension": ".py",
   "mimetype": "text/x-python",
   "name": "python",
   "nbconvert_exporter": "python",
   "pygments_lexer": "ipython3",
   "version": "3.12.7"
  }
 },
 "nbformat": 4,
 "nbformat_minor": 2
}
