{
 "cells": [
  {
   "cell_type": "code",
   "execution_count": null,
   "metadata": {},
   "outputs": [],
   "source": [
    "#Q1\n",
    "def find_numbers():\n",
    "    result = [str(num) for num in range(2000, 3201) if num % 7 == 0 and num % 5 != 0]\n",
    "    return \",\".join(result)\n",
    "\n",
    "print(find_numbers())\n"
   ]
  },
  {
   "cell_type": "code",
   "execution_count": null,
   "metadata": {},
   "outputs": [],
   "source": [
    "#Q2\n",
    "import math\n",
    "\n",
    "def calculate_values(c_values):\n",
    "    A = 50\n",
    "    B = 30\n",
    "    results = [str(int(math.sqrt((2 * A * B) / int(c)))) for c in c_values.split(\",\")]\n",
    "    return \",\".join(results)\n",
    "\n",
    "input_values = \"100,150,180\"\n",
    "print(calculate_values(input_values))  \n"
   ]
  },
  {
   "cell_type": "code",
   "execution_count": 1,
   "metadata": {},
   "outputs": [],
   "source": [
    "#Q3\n",
    "def sort_words(words):\n",
    "    return \",\".join(sorted(words.split(\",\")))\n",
    "\n",
    "input_words = \"without,hello,bag,world\"\n",
    "print(sort_words(input_words))  \n"
   ]
  },
  {
   "cell_type": "code",
   "execution_count": 2,
   "metadata": {},
   "outputs": [],
   "source": [
    "#Q4\n",
    "def capitalize_lines(lines):\n",
    "    return \"\\n\".join(line.upper() for line in lines)\n",
    "\n",
    "input_lines = [\"Hello world\", \"Practice makes perfect\"]\n",
    "print(capitalize_lines(input_lines))\n"
   ]
  },
  {
   "cell_type": "code",
   "execution_count": 3,
   "metadata": {},
   "outputs": [],
   "source": [
    "#Q5\n",
    "def count_vowels(sentence):\n",
    "    vowels = \"aeiou\"\n",
    "    count = {v: sentence.lower().count(v) for v in vowels}\n",
    "    for vowel, times in count.items():\n",
    "        print(f\"{vowel} appeared {times} times\")\n",
    "\n",
    "input_sentence = \"Hello world\\nPractice makes perfect\"\n",
    "count_vowels(input_sentence)\n"
   ]
  },
  {
   "cell_type": "code",
   "execution_count": 4,
   "metadata": {},
   "outputs": [],
   "source": [
    "#Q6\n",
    "def all_even_digits():\n",
    "    result = [str(num) for num in range(1000, 3001) if all(int(digit) % 2 == 0 for digit in str(num))]\n",
    "    return result\n",
    "\n",
    "print(\",\".join(all_even_digits()))\n"
   ]
  },
  {
   "cell_type": "code",
   "execution_count": 5,
   "metadata": {},
   "outputs": [],
   "source": [
    "#Q7\n",
    "def binary_divisible_by_5(binary_numbers):\n",
    "    results = [binary for binary in binary_numbers.split(\",\") if int(binary, 2) % 5 == 0]\n",
    "    return \",\".join(results)\n",
    "\n",
    "input_binaries = \"0100,0011,1010,1001\"\n",
    "print(binary_divisible_by_5(input_binaries))  \n"
   ]
  },
  {
   "cell_type": "code",
   "execution_count": 6,
   "metadata": {},
   "outputs": [],
   "source": [
    "#Q8\n",
    "def count_letters_and_digits(sentence):\n",
    "    letters = sum(char.isalpha() for char in sentence)\n",
    "    digits = sum(char.isdigit() for char in sentence)\n",
    "    print(f\"LETTERS {letters}\")\n",
    "    print(f\"DIGITS {digits}\")\n",
    "\n",
    "input_sentence = \"hello world! 123\"\n",
    "count_letters_and_digits(input_sentence)\n"
   ]
  }
 ],
 "metadata": {
  "kernelspec": {
   "display_name": "base",
   "language": "python",
   "name": "python3"
  },
  "language_info": {
   "codemirror_mode": {
    "name": "ipython",
    "version": 3
   },
   "file_extension": ".py",
   "mimetype": "text/x-python",
   "name": "python",
   "nbconvert_exporter": "python",
   "pygments_lexer": "ipython3",
   "version": "3.12.7"
  }
 },
 "nbformat": 4,
 "nbformat_minor": 2
}
